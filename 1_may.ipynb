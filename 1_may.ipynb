{
 "cells": [
  {
   "cell_type": "markdown",
   "id": "6583eb96-43d7-44e8-be1f-825a22d5d83c",
   "metadata": {},
   "source": [
    "Q1. What is a contingency matrix, and how is it used to evaluate the performance of a classification model?"
   ]
  },
  {
   "cell_type": "markdown",
   "id": "702a7d90-add7-49a6-9943-f73c06a55159",
   "metadata": {},
   "source": [
    "A Confusion matrix is an N x N matrix used for evaluating the performance of a classification model, where N is the total number of target classes. The matrix compares the actual target values with those predicted by the machine learning model.\n",
    "\n",
    "A confusion matrix is defined as thetable that is often used to describe the performance of a classification model on a set of the test data for which the true values are known. It is extremely useful for measuring the Recall, Precision, Accuracy, and AUC-ROC curves"
   ]
  },
  {
   "cell_type": "markdown",
   "id": "b8f850a0-ab51-459f-9435-04d4911894b9",
   "metadata": {},
   "source": [
    "Q2. How is a pair confusion matrix different from a regular confusion matrix, and why might it be useful in\n",
    "certain situations?"
   ]
  },
  {
   "cell_type": "markdown",
   "id": "053f8081-c9eb-4a5f-987f-6a8e54f4e167",
   "metadata": {},
   "source": [
    "A correlation matrix shows how variables in your DataSet relate to each other. Learn more about correlation matrices. A confusion matrix summarizes the predictive performance of a machine learning classification model."
   ]
  },
  {
   "cell_type": "markdown",
   "id": "c4060a1f-6f00-4cc9-aaf1-4d3119b69a80",
   "metadata": {},
   "source": [
    "Q3. What is an extrinsic measure in the context of natural language processing, and how is it typically\n",
    "used to evaluate the performance of language models?"
   ]
  },
  {
   "cell_type": "markdown",
   "id": "4bb106a9-995c-4436-bec8-5840286300eb",
   "metadata": {},
   "source": [
    "Extrinsic evaluation is the best way to evaluate the performance of a language model by embedding it in an application and measuring how much the application improves. It is an end-to-end evaluation where we can understand if a particular improvement in a component is really going to help the task at hand."
   ]
  },
  {
   "cell_type": "markdown",
   "id": "2bc4a7df-a2f0-47b8-9c99-acbd093fbd97",
   "metadata": {},
   "source": [
    "Q4. What is an intrinsic measure in the context of machine learning, and how does it differ from an\n",
    "extrinsic measure?"
   ]
  },
  {
   "cell_type": "markdown",
   "id": "d5dca127-9754-4f54-bc3e-e783b83d4f97",
   "metadata": {},
   "source": [
    "In an intrinsic evaluation, quality of NLP systems outputs is evaluated against pre-determined ground truth (reference text) whereas an extrinsic evaluation is aimed at evaluating systems outputs based on their impact on the performance of other NLP systems."
   ]
  },
  {
   "cell_type": "markdown",
   "id": "182264c2-6bf3-4a1c-9109-eb8fb00acc00",
   "metadata": {},
   "source": [
    "Q5. What is the purpose of a confusion matrix in machine learning, and how can it be used to identify\n",
    "strengths and weaknesses of a model?"
   ]
  },
  {
   "cell_type": "markdown",
   "id": "c246a02c-b80c-4f50-891d-94dab7df1c46",
   "metadata": {},
   "source": [
    "A confusion matrix is a table that allows you to visualize the performance of a classification model. You can also use the information in it to calculate measures that can help you determine the usefulness of the model. Rows represent predicted classifications, while columns represent the true classes from the data."
   ]
  },
  {
   "cell_type": "markdown",
   "id": "de8c2bb6-2650-4ed7-a699-2d51357aacf5",
   "metadata": {},
   "source": [
    "Q6. What are some common intrinsic measures used to evaluate the performance of unsupervised\n",
    "learning algorithms, and how can they be interpreted?"
   ]
  },
  {
   "cell_type": "markdown",
   "id": "567587f6-0844-4c9b-ad06-c67fedb776bb",
   "metadata": {},
   "source": [
    "Some common intrinsic measures are following:-\n",
    "\n",
    "Silhouette Coefficient. Silhouette is a technique in clustering to measure the similarity of data within the cluster compared to the other cluster.\n",
    "Calinski-Harabasz Index. \n",
    "Davies-Bouldin Index. \n",
    "Trustworthiness. \n",
    "Sammon's Mapping."
   ]
  },
  {
   "cell_type": "markdown",
   "id": "a6041001-f8ba-4ae1-832b-b7d63e9261d4",
   "metadata": {},
   "source": [
    "Q7. What are some limitations of using accuracy as a sole evaluation metric for classification tasks, and\n",
    "how can these limitations be addressed?"
   ]
  }
 ],
 "metadata": {
  "kernelspec": {
   "display_name": "Python 3 (ipykernel)",
   "language": "python",
   "name": "python3"
  },
  "language_info": {
   "codemirror_mode": {
    "name": "ipython",
    "version": 3
   },
   "file_extension": ".py",
   "mimetype": "text/x-python",
   "name": "python",
   "nbconvert_exporter": "python",
   "pygments_lexer": "ipython3",
   "version": "3.10.8"
  }
 },
 "nbformat": 4,
 "nbformat_minor": 5
}
